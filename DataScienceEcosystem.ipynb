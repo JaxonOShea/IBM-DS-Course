{
 "cells": [
  {
   "cell_type": "markdown",
   "id": "c1afbf08-64bb-4366-b0c9-060d532e88a0",
   "metadata": {},
   "source": [
    "# Data Science Tools and Ecosystem"
   ]
  },
  {
   "cell_type": "markdown",
   "id": "d85bab52-ddcf-49f1-b1e8-afd5b3e07ddf",
   "metadata": {
    "tags": []
   },
   "source": [
    "## Author\n",
    "Jaxon O'Shea"
   ]
  },
  {
   "cell_type": "markdown",
   "id": "9b345933-8abf-4506-bf7f-e38be63508af",
   "metadata": {},
   "source": [
    "In this notebook, Data Science Tools and Ecosystem are summarized.Objectives:"
   ]
  },
  {
   "cell_type": "markdown",
   "id": "599a364e-5a28-47dd-9c3c-10a2ed0aa896",
   "metadata": {},
   "source": [
    "**Objectives:**\n",
    "- Popular Languages in Data Science\n",
    "- Common Libraries used in Data Science\n",
    "- Data Science Tools\n",
    "- Examples of Arithmetic Expressions"
   ]
  },
  {
   "cell_type": "markdown",
   "id": "0d99e591-739b-4c52-a9cd-d177b6c382ae",
   "metadata": {
    "tags": []
   },
   "source": [
    "Some of the popular languages that Data Scientists use are:\n",
    "1. Python\n",
    "2. R\n",
    "3. SQL"
   ]
  },
  {
   "cell_type": "markdown",
   "id": "d016c786-ca33-4293-b4a2-333ecbfd3bf2",
   "metadata": {},
   "source": [
    "Some of the commonly used libraries used by Data Scientists include:\n",
    "1. Pandas\n",
    "2. NumPy\n",
    "3. Scikit"
   ]
  },
  {
   "cell_type": "markdown",
   "id": "b972b593-5c25-4ed1-abd9-dbd14d72a83d",
   "metadata": {
    "tags": []
   },
   "source": [
    "| Data Science Tools |\n",
    "| --- |\n",
    "| Jupyter Lab |\n",
    "| RStudio |\n",
    "| Apache Hadoop |"
   ]
  },
  {
   "cell_type": "markdown",
   "id": "0f35a41a-f57d-4ed4-94ef-1511070213f7",
   "metadata": {},
   "source": [
    "### Below are a few examples of evaluating arithmetic expressions in Python"
   ]
  },
  {
   "cell_type": "markdown",
   "id": "b22c1fb8-2491-4b1d-a901-f5b6557e6ff5",
   "metadata": {},
   "source": [
    "This a simple arithmetic expression to mutiply then add integers"
   ]
  },
  {
   "cell_type": "code",
   "execution_count": 4,
   "id": "1bbbdcba-6446-4756-b341-8f1a21ec8fe0",
   "metadata": {
    "tags": []
   },
   "outputs": [
    {
     "data": {
      "text/plain": [
       "17"
      ]
     },
     "execution_count": 4,
     "metadata": {},
     "output_type": "execute_result"
    }
   ],
   "source": [
    "(3*4)+5"
   ]
  },
  {
   "cell_type": "markdown",
   "id": "3420edf9-2cdb-4dd2-9c1e-50adabb7de2d",
   "metadata": {},
   "source": [
    "This will convert 200 minutes to hours by diving by 60"
   ]
  },
  {
   "cell_type": "code",
   "execution_count": 5,
   "id": "9a1f9dba-b9d0-4896-9658-3cd0e84ae136",
   "metadata": {
    "tags": []
   },
   "outputs": [
    {
     "data": {
      "text/plain": [
       "3.3333333333333335"
      ]
     },
     "execution_count": 5,
     "metadata": {},
     "output_type": "execute_result"
    }
   ],
   "source": [
    "200/60"
   ]
  },
  {
   "cell_type": "code",
   "execution_count": null,
   "id": "7aee1bfb-55fe-4f58-a5c6-a1cf944f1b91",
   "metadata": {},
   "outputs": [],
   "source": []
  }
 ],
 "metadata": {
  "kernelspec": {
   "display_name": "Python 3 (ipykernel)",
   "language": "python",
   "name": "python3"
  },
  "language_info": {
   "codemirror_mode": {
    "name": "ipython",
    "version": 3
   },
   "file_extension": ".py",
   "mimetype": "text/x-python",
   "name": "python",
   "nbconvert_exporter": "python",
   "pygments_lexer": "ipython3",
   "version": "3.11.0"
  }
 },
 "nbformat": 4,
 "nbformat_minor": 5
}
